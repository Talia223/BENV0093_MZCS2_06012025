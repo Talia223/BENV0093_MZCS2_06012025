{
 "cells": [
  {
   "cell_type": "code",
   "execution_count": null,
   "id": "0c73cd02",
   "metadata": {},
   "outputs": [],
   "source": [
    "# per capita demand projection\n",
    "import pandas as pd\n",
    "import numpy as np\n",
    "import matplotlib.pyplot as plt\n",
    "from sklearn.preprocessing import PolynomialFeatures\n",
    "from sklearn.linear_model import LinearRegression\n",
    "from sklearn.pipeline import make_pipeline\n",
    "\n",
    "file_path = 'International Energy Agency - Electricity consumption per capita, Indonesia.csv'\n",
    "data = pd.read_csv(file_path)\n",
    "\n",
    "data['Electricity consumption per capita, Indonesia'] = data['Electricity consumption per capita, Indonesia'].astype(float)\n",
    "\n",
    "X = data[['Year']].values\n",
    "y = data['Electricity consumption per capita, Indonesia'].values\n",
    "\n",
    "# Polynomial Regression (Degree 2)\n",
    "degree = 2\n",
    "poly_model = make_pipeline(PolynomialFeatures(degree), LinearRegression())\n",
    "poly_model.fit(X, y)\n",
    "\n",
    "extended_years = np.arange(data['Year'].min(), 2051).reshape(-1, 1)\n",
    "extended_predictions = poly_model.predict(extended_years)\n",
    "\n",
    "year_to_predict = np.array([[2040]])\n",
    "predicted_consumption_poly = poly_model.predict(year_to_predict)[0]\n",
    "\n",
    "plt.figure(figsize=(10, 6))\n",
    "\n",
    "plt.scatter(X, y, color='#3882a4',s=70, label='Actual Data')\n",
    "\n",
    "plt.plot(extended_years, extended_predictions, color='#f3bc42', label=f'Polynomial Fit (Degree {degree})')\n",
    "\n",
    "plt.scatter(year_to_predict, predicted_consumption_poly, color='#b74f00',s=70, label='2040 Prediction')\n",
    "\n",
    "plt.xlabel('Year')\n",
    "plt.ylabel('Electricity Consumption per Capita (MWh / Capita)')\n",
    "plt.title('Electricity Consumption per Capita Prediction (Polynomial Regression)')\n",
    "plt.legend()\n",
    "plt.grid(True)\n",
    "plt.show()\n",
    "\n",
    "print(f\"Polynomial Regression Prediction for 2040: {predicted_consumption_poly:.3f} MWh/Capita\")"
   ]
  }
 ],
 "metadata": {
  "kernelspec": {
   "display_name": "Python [conda env:.conda-EDA] *",
   "language": "python",
   "name": "conda-env-.conda-EDA-py"
  },
  "language_info": {
   "codemirror_mode": {
    "name": "ipython",
    "version": 3
   },
   "file_extension": ".py",
   "mimetype": "text/x-python",
   "name": "python",
   "nbconvert_exporter": "python",
   "pygments_lexer": "ipython3",
   "version": "3.8.20"
  }
 },
 "nbformat": 4,
 "nbformat_minor": 5
}
